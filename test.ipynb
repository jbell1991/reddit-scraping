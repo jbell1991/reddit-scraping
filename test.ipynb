{
 "cells": [
  {
   "cell_type": "code",
   "execution_count": 4,
   "metadata": {},
   "outputs": [],
   "source": [
    "# brainstorming what do to next now that I have the data pipeline set up\n",
    "\n",
    "# make sure to select distinct comment ids to avoid duplicate data [x]\n",
    "# take the data in the sql databases and practice queries [x]\n",
    "# export sql databases to csv files - load them back into a notebook \n",
    "# or just reverse using psycopg2? [x]\n",
    "# could create visualizations of submissions, comments over time [x]\n",
    "# find most popular words/symbols across submissions and comments [x]\n",
    "# could match symbols with a list of company names/tickers (maybe from RH project)\n",
    "# this way even if a symbol isn't as popular as a word I can still track it\n",
    "# could maybe find what's rising early on and front run\n",
    "# could create a barchart race of the most mentioned tickers over time\n",
    "# could find rising tickers from one day to the next with higher % mentions!\n",
    "# could rank tickers by the most upvotes on submissions and comments\n",
    "# sentiment analysis around certain stocks/tickers - might be tough given sarcasm/reddit speak\n",
    "# could compare popularity of stocks or sentiment around stocks vs price of a stock\n",
    "# create a watchlist of reddit stocks to monitor and keep track of data around those\n",
    "# i.e. valuation, business model viability, comps, short interest, etc\n",
    "# see if there are any users with a following similar to /u/deepfuckingvalue that\n",
    "# consisitently have a lot of upvotes on their submissions/comments \n",
    "# does price drive narrative?\n",
    "# put to call ratio word mentions"
   ]
  },
  {
   "cell_type": "code",
   "execution_count": null,
   "metadata": {},
   "outputs": [],
   "source": []
  }
 ],
 "metadata": {
  "kernelspec": {
   "display_name": "reddit-env",
   "language": "python",
   "name": "reddit-env"
  },
  "language_info": {
   "codemirror_mode": {
    "name": "ipython",
    "version": 3
   },
   "file_extension": ".py",
   "mimetype": "text/x-python",
   "name": "python",
   "nbconvert_exporter": "python",
   "pygments_lexer": "ipython3",
   "version": "3.8.0"
  }
 },
 "nbformat": 4,
 "nbformat_minor": 4
}
